{
 "cells": [
  {
   "cell_type": "markdown",
   "metadata": {},
   "source": [
    "# 抢票测试"
   ]
  },
  {
   "cell_type": "code",
   "execution_count": 2,
   "metadata": {
    "collapsed": true
   },
   "outputs": [],
   "source": [
    "import time\n",
    "import json\n",
    "import vfs\n",
    "from conf import conf as cf\n",
    "from webloader import WebLoader\n",
    "from conf import client as cl"
   ]
  },
  {
   "cell_type": "code",
   "execution_count": 3,
   "metadata": {},
   "outputs": [
    {
     "data": {
      "text/plain": [
       "'rosirk1@yandex.com'"
      ]
     },
     "execution_count": 3,
     "metadata": {},
     "output_type": "execute_result"
    }
   ],
   "source": [
    "cf.register_user"
   ]
  },
  {
   "cell_type": "code",
   "execution_count": 4,
   "metadata": {
    "scrolled": false
   },
   "outputs": [
    {
     "name": "stdout",
     "output_type": "stream",
     "text": [
      "[WEB] - getHtmlSoup query :  https://online.vfsglobal.com/Global-Appointment/\n",
      "[MAIN] - Stage : get before login main page\n",
      "[WEB] - reca url :  https://online.vfsglobal.com/Global-Appointment/DefaultCaptcha/Generate?t=c7f24452d50345efa645380181e427ad\n",
      "[MAIN] - Stage : success getting reca code :  VIKUM\n",
      "[MAIN] - Stage : success filling login form :  {'__RequestVerificationToken': '84yVN0-LGY0QmJTFqeG5PzfnmOF3QWWGPhQZe31N31ClTswUEnZkmtZgtDzg6nSMEZz1qX9V2Q4NrrXan7z5o9OzOZo1', 'reCaptchaPublicKey': '6Ld-Kg8UAAAAAK6U2Ur94LX8-Agew_jk1pQ3meJ1', 'CaptchaInputText': 'VIKUM', 'Mission': '', 'Country': '', 'Center': '', 'IsGoogleCaptchaEnabled': 'False', 'reCaptchaURL': 'https://www.google.com/recaptcha/api/siteverify?secret={0}&response={1}', 'CaptchaDeText': 'c7f24452d50345efa645380181e427ad', 'EmailId': 'rosirk1@yandex.com', 'Password': 'Rosewood@23'}\n",
      "[WEB] - postFormDataSoup query:  https://online.vfsglobal.com/Global-Appointment/\n",
      "[MAIN] - Stage : success login\n"
     ]
    }
   ],
   "source": [
    "#%%\n",
    "###############################\n",
    "###未登录态, 验证码输入, 登录\n",
    "###可以预先登录\n",
    "##############################\n",
    "web = WebLoader()\n",
    "soup = web.getHtmlSoup('https://online.vfsglobal.com/Global-Appointment/')\n",
    "if soup is None:\n",
    "    raise Exception('main page http get error')\n",
    "\n",
    "print('[MAIN] - Stage : get before login main page')\n",
    "token = vfs.getReqTokenBySoup(soup)\n",
    "\n",
    "path = soup.find(id='CaptchaImage')\n",
    "code = web.getReCaptchaCode(path['src'])\n",
    "print('[MAIN] - Stage : success getting reca code : ', code)\n",
    "   \n",
    "form = vfs.buildLoginForm(soup, code, cf.register_user, cf.password)\n",
    "if form is None:\n",
    "    raise Exception('fill login form error')\n",
    "\n",
    "print('[MAIN] - Stage : success filling login form : ', form)\n",
    "\n",
    "home_soup = web.postFormDataSoup('https://online.vfsglobal.com/Global-Appointment/', form)\n",
    "if not vfs.verifyPage(home_soup, 'HOME PAGE'):\n",
    "    raise Exception('login failed')\n",
    "\n",
    "print('[MAIN] - Stage : success login')"
   ]
  },
  {
   "cell_type": "code",
   "execution_count": 14,
   "metadata": {},
   "outputs": [
    {
     "data": {
      "text/plain": [
       "<title>VFS : Registered Login</title>"
      ]
     },
     "execution_count": 14,
     "metadata": {},
     "output_type": "execute_result"
    }
   ],
   "source": [
    "home_soup.find('title')"
   ]
  },
  {
   "cell_type": "code",
   "execution_count": null,
   "metadata": {
    "collapsed": true
   },
   "outputs": [],
   "source": [
    "#%%\n",
    "############################################\n",
    "### 选择签证类型, 出发地点, 准备进入候选人添加\n",
    "############################################\n",
    "\n",
    "vac = home_soup.find(vfs.filterSelectVAC)\n",
    "vac_url = vac['href']\n",
    "if vac_url is None:\n",
    "    raise Exception('selectVAC link not found')\n",
    "\n",
    "# selectVAC\n",
    "vac_soup = web.getHtmlSoup(vac_url)\n",
    "token = vfs.getReqTokenBySoup(vac_soup)\n",
    "if not vfs.verifyPage(vac_soup, 'Select Centre'):\n",
    "    raise Exception('enter Schedule Appoint error')\n",
    "    \n",
    "print('[MAIN] - Stage: success enter selectVAC page')\n",
    "\n",
    "infoJson = vac_soup.find(id='MissionCountryLocationJSON')\n",
    "info = json.loads(infoJson.attrs['value'])\n",
    "sel = vfs.parseMissionLocJson(info, cl.applicants[0])\n",
    "print('[MAIN] - Stage: success parsing mission country location json')\n",
    "\n",
    "## 不知道有啥用1 : 获取可选的信息\n",
    "#check_area_url = 'https://online.vfsglobal.com/Global-Appointment/Account/CheckSeatAllotment'\n",
    "#check_form = {}\n",
    "#check_form['countryId'] = '11'\n",
    "#check_form['missionId'] = '22'\n",
    "#check_form['LocationId'] = '160'\n",
    "#check_form['Location'] = 'Australia Visa Application Centre-Beijing'\n",
    "#areaInfo = web.postFormDataJson(check_area_url, check_form, token)\n",
    "#print(areaInfo)\n",
    "\n",
    "## 不知道有啥用2\n",
    "#visa_cate_url = 'https://online.vfsglobal.com/Global-Appointment/Account/GetEarliestVisaSlotDate'\n",
    "#visa_form = {}\n",
    "#visa_form['countryId'] = '11'\n",
    "#visa_form['missionId'] = '22'\n",
    "#visa_form['LocationId'] = '160'\n",
    "#visa_form['VisaCategoryId'] = '418'\n",
    "#visaInfo = web.postFormDataJson(visa_cate_url, visa_form, token)\n",
    "#print(visaInfo)\n",
    "\n",
    "vac_form = vfs.buildMissionForm(vac_soup, sel)\n",
    "\n",
    "applicant_soup = web.postFormDataSoup(vac_url, vac_form)\n",
    "if not vfs.verifyPage(applicant_soup, 'Applicant List'):\n",
    "    raise Exception('enter Applicant list error')\n",
    "\n",
    "print('[MAIN] - Stage: success enter applicant list')\n",
    "\n",
    "\n"
   ]
  },
  {
   "cell_type": "code",
   "execution_count": 6,
   "metadata": {},
   "outputs": [
    {
     "ename": "NameError",
     "evalue": "name 'applicant_soup' is not defined",
     "output_type": "error",
     "traceback": [
      "\u001b[0;31m---------------------------------------------------------------------------\u001b[0m",
      "\u001b[0;31mNameError\u001b[0m                                 Traceback (most recent call last)",
      "\u001b[0;32m<ipython-input-6-28339921d44e>\u001b[0m in \u001b[0;36m<module>\u001b[0;34m()\u001b[0m\n\u001b[1;32m      4\u001b[0m \u001b[0;31m###########################################\u001b[0m\u001b[0;34m\u001b[0m\u001b[0;34m\u001b[0m\u001b[0m\n\u001b[1;32m      5\u001b[0m \u001b[0;34m\u001b[0m\u001b[0m\n\u001b[0;32m----> 6\u001b[0;31m \u001b[0madd_page\u001b[0m \u001b[0;34m=\u001b[0m \u001b[0mapplicant_soup\u001b[0m\u001b[0;34m.\u001b[0m\u001b[0mfind\u001b[0m\u001b[0;34m(\u001b[0m\u001b[0mvfs\u001b[0m\u001b[0;34m.\u001b[0m\u001b[0mfilterAddApplicant\u001b[0m\u001b[0;34m)\u001b[0m\u001b[0;34m\u001b[0m\u001b[0m\n\u001b[0m\u001b[1;32m      7\u001b[0m \u001b[0madd_page_soup\u001b[0m \u001b[0;34m=\u001b[0m \u001b[0mweb\u001b[0m\u001b[0;34m.\u001b[0m\u001b[0mgetHtmlSoup\u001b[0m\u001b[0;34m(\u001b[0m\u001b[0madd_page\u001b[0m\u001b[0;34m[\u001b[0m\u001b[0;34m'href'\u001b[0m\u001b[0;34m]\u001b[0m\u001b[0;34m)\u001b[0m\u001b[0;34m\u001b[0m\u001b[0m\n\u001b[1;32m      8\u001b[0m \u001b[0mtoken\u001b[0m \u001b[0;34m=\u001b[0m \u001b[0mvfs\u001b[0m\u001b[0;34m.\u001b[0m\u001b[0mgetReqTokenBySoup\u001b[0m\u001b[0;34m(\u001b[0m\u001b[0madd_page_soup\u001b[0m\u001b[0;34m)\u001b[0m\u001b[0;34m\u001b[0m\u001b[0m\n",
      "\u001b[0;31mNameError\u001b[0m: name 'applicant_soup' is not defined"
     ]
    }
   ],
   "source": [
    "#%%\n",
    "###########################################\n",
    "### 进入添加候选人页面, 添加多个候选人\n",
    "###########################################\n",
    "\n",
    "add_page = applicant_soup.find(vfs.filterAddApplicant)\n",
    "add_page_soup = web.getHtmlSoup(add_page['href'])\n",
    "token = vfs.getReqTokenBySoup(add_page_soup)\n",
    "if not vfs.verifyPage(add_page_soup, 'Add New Applicant'):\n",
    "    raise Exception('enter Add New Applicant error')\n",
    "    \n",
    "print('[MAIN] - Stage: success enter Add New Applicant')\n",
    "\n",
    "# TODO: 多个客户进行配置\n",
    "add_url = 'https://online.vfsglobal.com/Global-Appointment/Applicant/AddApplicant'\n",
    "apc1 = cl.applicants[0]['form']\n",
    "apc1['__RequestVerificationToken'] = token\n",
    "\n",
    "apc2 = cl.applicants[1]['form']\n",
    "apc2['__RequestVerificationToken'] = token\n",
    "\n",
    "a_soup = web.postFormDataSoup(add_url, apc1)\n",
    "if not vfs.verifyPage(a_soup, 'Applicant List'):\n",
    "    raise Exception('Add Applicant error')\n",
    "    \n",
    "print('[MAIN] - Stage: success Add one Applicant')\n",
    "\n",
    "final_soup = web.postFormDataSoup(add_url, apc2)\n",
    "if not vfs.verifyPage(final_soup, 'Applicant List'):\n",
    "    raise Exception('Add Applicant error')\n",
    "    \n",
    "print('[MAIN] - Stage: success Add one Applicant')"
   ]
  },
  {
   "cell_type": "code",
   "execution_count": null,
   "metadata": {
    "collapsed": true
   },
   "outputs": [],
   "source": [
    "#%%\n",
    "# 提交候选人\n",
    "submit_applicant_url = 'https://online.vfsglobal.com/Global-Appointment/Applicant/ApplicantList'\n",
    "submit_form = vfs.buildCalendarSubmitForm(final_soup)\n",
    "calendar_soup = web.postFormDataSoup(submit_applicant_url, submit_form)\n",
    "if calendar_soup.find(name='title').text.find('Booking Appointment') == -1:\n",
    "    raise Exception('enter Booking Appointment error')\n",
    "\n",
    "print('[MAIN] - Stage: success enter Booking Appointment')"
   ]
  },
  {
   "cell_type": "code",
   "execution_count": null,
   "metadata": {
    "collapsed": true
   },
   "outputs": [],
   "source": [
    "#%%\n",
    "#############################################\n",
    "### 确认最终时间\n",
    "#############################################\n",
    "\n",
    "\n",
    "today_time = time.gmtime()\n",
    "get_calendar_token = vfs.getReqTokenBySoup(calendar_soup)\n",
    "get_calendar_json_url = 'https://online.vfsglobal.com/Global-Appointment/Calendar/GetCalendarDaysOnViewChange'\n",
    "query = '?month=%s&year=%s&bookingType=%s&_=%s' % (today_time.tm_mon, today_time.tm_year, 'General', int(time.time()*1000))\n",
    "get_calendar_json = web.getQueryDataJson(get_calendar_json_url + query, get_calendar_token)\n",
    "if get_calendar_json is None:\n",
    "    raise Exception('get calendar json error')\n",
    "    \n",
    "print('[MAIN] - Stage: success getting calendar json')\n",
    "\n",
    "# TODO: 根据所有人的合理时间进行申请\n",
    "sel_time_band = vfs.parseGetCalendarDaysJson(get_calendar_json, cl.applicants[0])\n",
    "if sel_time_band is None:\n",
    "    raise Exception('select time band error, config error!')\n",
    "    \n",
    "print('[MAIN] - Stage: success selecting time band')"
   ]
  },
  {
   "cell_type": "code",
   "execution_count": null,
   "metadata": {
    "collapsed": true
   },
   "outputs": [],
   "source": [
    "#%%\n",
    "final_submit_url = 'https://online.vfsglobal.com/Global-Appointment/Calendar/FinalCalendar'\n",
    "\n",
    "## TODO: 动态修改\n",
    "final_form = {\n",
    "    '__RequestVerificationToken': get_calendar_token,\n",
    "    'AvailableDatesAndSlotsJSON': '[]',\n",
    "    'EncryptedSelectedAllocationId': sel_time_band,\n",
    "    'PreviousScheduleDateTimeMessage': '',\n",
    "    'URN AUGZ542020123': '',\n",
    "    'isPaymentPageRequired': 'False',\n",
    "    'isCriteriaPageRequired': 'False',\n",
    "    'VisaCategory': 'General Visa',\n",
    "    'PurposeOfTravel': '',\n",
    "    'EnablePaymentGatewayIntegration': 'False',\n",
    "    'NumberOfApplicants': '2',\n",
    "    'applicantList.PassportNumber': '',\n",
    "    'applicantList.AURN': '',\n",
    "    'BookingcategoryType': 'General',\n",
    "    'selectedTimeBand': sel_time_band\n",
    "}\n",
    "\n",
    "\n",
    "calendar_soup.find(id='URN').attrs['value']\n",
    "\n",
    "after_submit_soup = web.postFormDataSoup(final_submit_url, final_form)\n",
    "if after_submit_soup.find(name='title').text.find('Final Confirmation') == -1:\n",
    "    raise Exception('enter Final Confirmation error')\n",
    "    \n",
    "print('[MAIN] - Stage: success Final Confirmation')\n",
    "\n"
   ]
  },
  {
   "cell_type": "code",
   "execution_count": null,
   "metadata": {
    "collapsed": true
   },
   "outputs": [],
   "source": [
    "#%%\n",
    "###############################################\n",
    "### 最终提交(能够获得电子邮件)\n",
    "###############################################\n",
    "get_email_token = after_submit_soup.find(name='input').attrs['value']\n",
    "get_email_url = 'https://online.vfsglobal.com/Global-Appointment/Payment/InitiatePayment'\n",
    "get_email_form = {\n",
    "        '__RequestVerificationToken': get_email_token,\n",
    "        'ApplicantGroupEmail': after_submit_soup.find(id='ApplicantGroupEmail').attrs['value'],\n",
    "        'IsCountryEmailFecility': 'False',\n",
    "        'TotalAmount': '0',\n",
    "        'EnablePaymentGatewayIntegration': 'False',\n",
    "        'SurchargeFeeEnabled': 'False',\n",
    "        'CanApplicantReachoutVFS': 'false'\n",
    "}\n",
    "\n",
    "last_soup = web.postFormDataSoup(get_email_url, get_email_form)\n",
    "if last_soup.find(name='title').text.find('HOME PAGE') == -1:\n",
    "    raise Exception('final confirmation error')\n",
    "\n",
    "print('[MAIN] - Stage: success final confirmation, check your email')\n",
    "\n",
    "\n",
    "# 登出, 安全退出, 防止被怀疑\n",
    "# form2 = {}\n",
    "# form2['__RequestVerificationToken'] = form['__RequestVerificationToken']\n",
    "\n",
    "# r4 = s.post('https://online.vfsglobal.com/Global-Appointment/Account/LogOff', data=urllib.parse.urlencode(form2), headers=login_headers)"
   ]
  }
 ],
 "metadata": {
  "kernelspec": {
   "display_name": "Python 3",
   "language": "python",
   "name": "python3"
  },
  "language_info": {
   "codemirror_mode": {
    "name": "ipython",
    "version": 3
   },
   "file_extension": ".py",
   "mimetype": "text/x-python",
   "name": "python",
   "nbconvert_exporter": "python",
   "pygments_lexer": "ipython3",
   "version": "3.6.3"
  }
 },
 "nbformat": 4,
 "nbformat_minor": 2
}
